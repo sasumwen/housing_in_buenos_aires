{
  "nbformat": 4,
  "nbformat_minor": 0,
  "metadata": {
    "colab": {
      "provenance": [],
      "mount_file_id": "1AxFNlyb1CQAwQoFO1Ey6A8veq-f7hFab",
      "authorship_tag": "ABX9TyOOev+0SbON0t1AUw8koDPV",
      "include_colab_link": true
    },
    "kernelspec": {
      "name": "python3",
      "display_name": "Python 3"
    },
    "language_info": {
      "name": "python"
    }
  },
  "cells": [
    {
      "cell_type": "markdown",
      "metadata": {
        "id": "view-in-github",
        "colab_type": "text"
      },
      "source": [
        "<a href=\"https://colab.research.google.com/github/sasumwen/housing_in_buenos_aires/blob/main/020_housing_in_buenos_aires.ipynb\" target=\"_parent\"><img src=\"https://colab.research.google.com/assets/colab-badge.svg\" alt=\"Open In Colab\"/></a>"
      ]
    },
    {
      "cell_type": "code",
      "source": [
        "import warnings\n",
        "\n",
        "import matplotlib.pyplot as plt\n",
        "import pandas as pd\n",
        "from sklearn.linear_model import LinearRegression\n",
        "from sklearn.metrics import mean_absolute_error\n",
        "from sklearn.utils.validation import check_is_fitted\n",
        "\n",
        "warnings.simplefilter(action=\"ignore\", category=FutureWarning)\n"
      ],
      "metadata": {
        "id": "wZWtKsTbtBgR"
      },
      "execution_count": 1,
      "outputs": []
    },
    {
      "cell_type": "code",
      "source": [
        "#this function does 4 parts, it selects properties specifically in capital federal, \n",
        "#and next the properties must be apartment only and \n",
        "#lastly it must be less that 400k\n",
        "#and it removes outliers so that dataset is not too distant\n",
        "\n",
        "#then the new DataFrame is assigned following these attributes\n",
        "def wrangle(filepath):\n",
        "  df =pd.read_csv(filepath, encoding=\"ISO-8859-1\")\n",
        "  \n",
        "  #subset to properties in \"Capital Federal\"\n",
        "  mask_ba = df[\"place_with_parent_names\"].str.contains(\"Capital Federal\")\n",
        "\n",
        "  #subset to \"apartment\"\n",
        "  mask_apt = df[\"property_type\"] == \"apartment\"\n",
        "\n",
        "  #subset to less than 400,000\n",
        "  mask_price = df[\"price_aprox_usd\"] < 400_000\n",
        "\n",
        "  #subset remove outliers by surface areas covered\n",
        "  low, high = df[\"surface_covered_in_m2\"].quantile([0.1, 0.9])\n",
        "  mask_area = df[\"surface_covered_in_m2\"].between(low, high)\n",
        "\n",
        "\n",
        "  df = df[mask_ba & mask_apt & mask_price & mask_area]\n",
        "\n",
        "\n",
        "  return df"
      ],
      "metadata": {
        "id": "cEcOLOW0t2Oh"
      },
      "execution_count": 2,
      "outputs": []
    },
    {
      "cell_type": "code",
      "source": [
        "df = wrangle(\"/content/drive/MyDrive/colab_notebooks/020-housing_in_buenos_aires/buenos-aires-real-estate-1.csv\")"
      ],
      "metadata": {
        "id": "1gH-VfCkyB9c"
      },
      "execution_count": 3,
      "outputs": []
    },
    {
      "cell_type": "code",
      "source": [
        "df.head(2)"
      ],
      "metadata": {
        "colab": {
          "base_uri": "https://localhost:8080/",
          "height": 210
        },
        "id": "HJk1I4Qtk7Fv",
        "outputId": "9046fc73-9d6d-49e4-f525-4244dfd3c2a8"
      },
      "execution_count": 4,
      "outputs": [
        {
          "output_type": "execute_result",
          "data": {
            "text/plain": [
              "  operation property_type                   place_with_parent_names  \\\n",
              "0      sell     apartment  |Argentina|Capital Federal|Villa Crespo|   \n",
              "4      sell     apartment     |Argentina|Capital Federal|Chacarita|   \n",
              "\n",
              "                         lat-lon     price currency  \\\n",
              "0  -34.6047834183,-58.4586812499  180000.0      USD   \n",
              "4  -34.5846508988,-58.4546932614  129000.0      USD   \n",
              "\n",
              "   price_aprox_local_currency  price_aprox_usd  surface_total_in_m2  \\\n",
              "0                   2729232.0         180000.0                120.0   \n",
              "4                   1955949.6         129000.0                 76.0   \n",
              "\n",
              "   surface_covered_in_m2  price_usd_per_m2  price_per_m2  floor  rooms  \\\n",
              "0                  110.0       1500.000000   1636.363636    NaN    4.0   \n",
              "4                   70.0       1697.368421   1842.857143    NaN    NaN   \n",
              "\n",
              "   expenses                                      properati_url  \n",
              "0       NaN  http://villa-crespo.properati.com.ar/12egq_ven...  \n",
              "4       NaN  http://chacarita.properati.com.ar/10qlv_venta_...  "
            ],
            "text/html": [
              "\n",
              "  <div id=\"df-2bd0e19b-3a8e-4223-a619-087bcd9cf443\">\n",
              "    <div class=\"colab-df-container\">\n",
              "      <div>\n",
              "<style scoped>\n",
              "    .dataframe tbody tr th:only-of-type {\n",
              "        vertical-align: middle;\n",
              "    }\n",
              "\n",
              "    .dataframe tbody tr th {\n",
              "        vertical-align: top;\n",
              "    }\n",
              "\n",
              "    .dataframe thead th {\n",
              "        text-align: right;\n",
              "    }\n",
              "</style>\n",
              "<table border=\"1\" class=\"dataframe\">\n",
              "  <thead>\n",
              "    <tr style=\"text-align: right;\">\n",
              "      <th></th>\n",
              "      <th>operation</th>\n",
              "      <th>property_type</th>\n",
              "      <th>place_with_parent_names</th>\n",
              "      <th>lat-lon</th>\n",
              "      <th>price</th>\n",
              "      <th>currency</th>\n",
              "      <th>price_aprox_local_currency</th>\n",
              "      <th>price_aprox_usd</th>\n",
              "      <th>surface_total_in_m2</th>\n",
              "      <th>surface_covered_in_m2</th>\n",
              "      <th>price_usd_per_m2</th>\n",
              "      <th>price_per_m2</th>\n",
              "      <th>floor</th>\n",
              "      <th>rooms</th>\n",
              "      <th>expenses</th>\n",
              "      <th>properati_url</th>\n",
              "    </tr>\n",
              "  </thead>\n",
              "  <tbody>\n",
              "    <tr>\n",
              "      <th>0</th>\n",
              "      <td>sell</td>\n",
              "      <td>apartment</td>\n",
              "      <td>|Argentina|Capital Federal|Villa Crespo|</td>\n",
              "      <td>-34.6047834183,-58.4586812499</td>\n",
              "      <td>180000.0</td>\n",
              "      <td>USD</td>\n",
              "      <td>2729232.0</td>\n",
              "      <td>180000.0</td>\n",
              "      <td>120.0</td>\n",
              "      <td>110.0</td>\n",
              "      <td>1500.000000</td>\n",
              "      <td>1636.363636</td>\n",
              "      <td>NaN</td>\n",
              "      <td>4.0</td>\n",
              "      <td>NaN</td>\n",
              "      <td>http://villa-crespo.properati.com.ar/12egq_ven...</td>\n",
              "    </tr>\n",
              "    <tr>\n",
              "      <th>4</th>\n",
              "      <td>sell</td>\n",
              "      <td>apartment</td>\n",
              "      <td>|Argentina|Capital Federal|Chacarita|</td>\n",
              "      <td>-34.5846508988,-58.4546932614</td>\n",
              "      <td>129000.0</td>\n",
              "      <td>USD</td>\n",
              "      <td>1955949.6</td>\n",
              "      <td>129000.0</td>\n",
              "      <td>76.0</td>\n",
              "      <td>70.0</td>\n",
              "      <td>1697.368421</td>\n",
              "      <td>1842.857143</td>\n",
              "      <td>NaN</td>\n",
              "      <td>NaN</td>\n",
              "      <td>NaN</td>\n",
              "      <td>http://chacarita.properati.com.ar/10qlv_venta_...</td>\n",
              "    </tr>\n",
              "  </tbody>\n",
              "</table>\n",
              "</div>\n",
              "      <button class=\"colab-df-convert\" onclick=\"convertToInteractive('df-2bd0e19b-3a8e-4223-a619-087bcd9cf443')\"\n",
              "              title=\"Convert this dataframe to an interactive table.\"\n",
              "              style=\"display:none;\">\n",
              "        \n",
              "  <svg xmlns=\"http://www.w3.org/2000/svg\" height=\"24px\"viewBox=\"0 0 24 24\"\n",
              "       width=\"24px\">\n",
              "    <path d=\"M0 0h24v24H0V0z\" fill=\"none\"/>\n",
              "    <path d=\"M18.56 5.44l.94 2.06.94-2.06 2.06-.94-2.06-.94-.94-2.06-.94 2.06-2.06.94zm-11 1L8.5 8.5l.94-2.06 2.06-.94-2.06-.94L8.5 2.5l-.94 2.06-2.06.94zm10 10l.94 2.06.94-2.06 2.06-.94-2.06-.94-.94-2.06-.94 2.06-2.06.94z\"/><path d=\"M17.41 7.96l-1.37-1.37c-.4-.4-.92-.59-1.43-.59-.52 0-1.04.2-1.43.59L10.3 9.45l-7.72 7.72c-.78.78-.78 2.05 0 2.83L4 21.41c.39.39.9.59 1.41.59.51 0 1.02-.2 1.41-.59l7.78-7.78 2.81-2.81c.8-.78.8-2.07 0-2.86zM5.41 20L4 18.59l7.72-7.72 1.47 1.35L5.41 20z\"/>\n",
              "  </svg>\n",
              "      </button>\n",
              "      \n",
              "  <style>\n",
              "    .colab-df-container {\n",
              "      display:flex;\n",
              "      flex-wrap:wrap;\n",
              "      gap: 12px;\n",
              "    }\n",
              "\n",
              "    .colab-df-convert {\n",
              "      background-color: #E8F0FE;\n",
              "      border: none;\n",
              "      border-radius: 50%;\n",
              "      cursor: pointer;\n",
              "      display: none;\n",
              "      fill: #1967D2;\n",
              "      height: 32px;\n",
              "      padding: 0 0 0 0;\n",
              "      width: 32px;\n",
              "    }\n",
              "\n",
              "    .colab-df-convert:hover {\n",
              "      background-color: #E2EBFA;\n",
              "      box-shadow: 0px 1px 2px rgba(60, 64, 67, 0.3), 0px 1px 3px 1px rgba(60, 64, 67, 0.15);\n",
              "      fill: #174EA6;\n",
              "    }\n",
              "\n",
              "    [theme=dark] .colab-df-convert {\n",
              "      background-color: #3B4455;\n",
              "      fill: #D2E3FC;\n",
              "    }\n",
              "\n",
              "    [theme=dark] .colab-df-convert:hover {\n",
              "      background-color: #434B5C;\n",
              "      box-shadow: 0px 1px 3px 1px rgba(0, 0, 0, 0.15);\n",
              "      filter: drop-shadow(0px 1px 2px rgba(0, 0, 0, 0.3));\n",
              "      fill: #FFFFFF;\n",
              "    }\n",
              "  </style>\n",
              "\n",
              "      <script>\n",
              "        const buttonEl =\n",
              "          document.querySelector('#df-2bd0e19b-3a8e-4223-a619-087bcd9cf443 button.colab-df-convert');\n",
              "        buttonEl.style.display =\n",
              "          google.colab.kernel.accessAllowed ? 'block' : 'none';\n",
              "\n",
              "        async function convertToInteractive(key) {\n",
              "          const element = document.querySelector('#df-2bd0e19b-3a8e-4223-a619-087bcd9cf443');\n",
              "          const dataTable =\n",
              "            await google.colab.kernel.invokeFunction('convertToInteractive',\n",
              "                                                     [key], {});\n",
              "          if (!dataTable) return;\n",
              "\n",
              "          const docLinkHtml = 'Like what you see? Visit the ' +\n",
              "            '<a target=\"_blank\" href=https://colab.research.google.com/notebooks/data_table.ipynb>data table notebook</a>'\n",
              "            + ' to learn more about interactive tables.';\n",
              "          element.innerHTML = '';\n",
              "          dataTable['output_type'] = 'display_data';\n",
              "          await google.colab.output.renderOutput(dataTable, element);\n",
              "          const docLink = document.createElement('div');\n",
              "          docLink.innerHTML = docLinkHtml;\n",
              "          element.appendChild(docLink);\n",
              "        }\n",
              "      </script>\n",
              "    </div>\n",
              "  </div>\n",
              "  "
            ]
          },
          "metadata": {},
          "execution_count": 4
        }
      ]
    },
    {
      "cell_type": "code",
      "source": [
        "assert (\n",
        "    len(df) <= 8606\n",
        "), f\"'df' should have no more than 8606 observations, not {len(df)}.\""
      ],
      "metadata": {
        "id": "EyrHmey7lVfL"
      },
      "execution_count": 5,
      "outputs": []
    },
    {
      "cell_type": "code",
      "source": [
        "plt.hist(df[\"surface_covered_in_m2\"])\n",
        "plt.xlabel(\"Area [sq meters]\")\n",
        "plt.title(\"Distribution of apartment sizes\")"
      ],
      "metadata": {
        "colab": {
          "base_uri": "https://localhost:8080/",
          "height": 313
        },
        "id": "lJox09n8ybKS",
        "outputId": "e2141639-9e22-4a4d-8acc-1250694b36f7"
      },
      "execution_count": 6,
      "outputs": [
        {
          "output_type": "execute_result",
          "data": {
            "text/plain": [
              "Text(0.5, 1.0, 'Distribution of apartment sizes')"
            ]
          },
          "metadata": {},
          "execution_count": 6
        },
        {
          "output_type": "display_data",
          "data": {
            "text/plain": [
              "<Figure size 432x288 with 1 Axes>"
            ],
            "image/png": "[encoded data removed]"
          },
          "metadata": {
            "needs_background": "light"
          }
        }
      ]
    },
    {
      "cell_type": "code",
      "source": [
        "df.describe()[\"surface_covered_in_m2\"]"
      ],
      "metadata": {
        "colab": {
          "base_uri": "https://localhost:8080/"
        },
        "id": "hYCTu5H-y5pX",
        "outputId": "72a7927a-d609-42e4-ce14-d63f4647bf7c"
      },
      "execution_count": 7,
      "outputs": [
        {
          "output_type": "execute_result",
          "data": {
            "text/plain": [
              "count    1413.000000\n",
              "mean       64.828733\n",
              "std        30.411327\n",
              "min        34.000000\n",
              "25%        43.000000\n",
              "50%        56.000000\n",
              "75%        77.000000\n",
              "max       274.000000\n",
              "Name: surface_covered_in_m2, dtype: float64"
            ]
          },
          "metadata": {},
          "execution_count": 7
        }
      ]
    },
    {
      "cell_type": "code",
      "source": [
        "plt.scatter(x=df[\"surface_covered_in_m2\"],\n",
        "            y=df[\"price_aprox_usd\"]\n",
        "            )\n",
        "plt.xlabel(\"area sq meter\"),\n",
        "plt.ylabel(\"price usd\"),\n",
        "plt.title(\"BA: Price verses Area\")"
      ],
      "metadata": {
        "colab": {
          "base_uri": "https://localhost:8080/",
          "height": 313
        },
        "id": "b7lzwewNzVsM",
        "outputId": "44054c47-fb45-467b-e809-f2f67e8e107c"
      },
      "execution_count": 8,
      "outputs": [
        {
          "output_type": "execute_result",
          "data": {
            "text/plain": [
              "Text(0.5, 1.0, 'BA: Price verses Area')"
            ]
          },
          "metadata": {},
          "execution_count": 8
        },
        {
          "output_type": "display_data",
          "data": {
            "text/plain": [
              "<Figure size 432x288 with 1 Axes>"
            ],
            "image/png": "[encoded data removed]"
          },
          "metadata": {
            "needs_background": "light"
          }
        }
      ]
    },
    {
      "cell_type": "code",
      "source": [],
      "metadata": {
        "id": "XxxljreZ3ojq"
      },
      "execution_count": 8,
      "outputs": []
    }
  ]
}